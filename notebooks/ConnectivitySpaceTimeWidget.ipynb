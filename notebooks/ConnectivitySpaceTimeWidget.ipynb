{
 "cells": [
  {
   "cell_type": "markdown",
   "metadata": {},
   "source": [
    "# Connectivity SpaceTime Widget\n",
    "Displays a large scale Connectivity split into time slices, based on the delays of passing the signals to adjacent regions.The first slice is the complete weights matrix.<br><br>\n",
    "This work has been produced as part of GSOC 2024.\n"
   ]
  },
  {
   "cell_type": "code",
   "execution_count": null,
   "metadata": {},
   "outputs": [],
   "source": [
    "from tvb.datatypes.connectivity import Connectivity\n",
    "from tvbwidgets.ui.spacetime_widget import SpaceTimeVisualizerWidget\n",
    "conn = Connectivity.from_file() # defaults to connectivy_76.zip\n",
    "conn.configure()"
   ]
  },
  {
   "cell_type": "code",
   "execution_count": null,
   "metadata": {},
   "outputs": [],
   "source": [
    "x = SpaceTimeVisualizerWidget(conn)\n",
    "x.display()"
   ]
  }
 ],
 "metadata": {
  "kernelspec": {
   "display_name": "Python 3 (ipykernel)",
   "language": "python",
   "name": "python3"
  },
  "language_info": {
   "codemirror_mode": {
    "name": "ipython",
    "version": 3
   },
   "file_extension": ".py",
   "mimetype": "text/x-python",
   "name": "python",
   "nbconvert_exporter": "python",
   "pygments_lexer": "ipython3",
   "version": "3.13.3"
  }
 },
 "nbformat": 4,
 "nbformat_minor": 4
}
