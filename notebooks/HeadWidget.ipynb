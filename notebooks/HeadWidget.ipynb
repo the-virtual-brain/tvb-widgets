{
 "cells": [
  {
   "cell_type": "markdown",
   "id": "20fa012f-9125-453e-825a-a115d158ad69",
   "metadata": {},
   "source": [
    "## Demonstrate Head Widget "
   ]
  },
  {
   "cell_type": "markdown",
   "id": "18cc394a-0f93-46cf-bd16-26f439bc9190",
   "metadata": {},
   "source": [
    "---"
   ]
  },
  {
   "cell_type": "markdown",
   "id": "37f76c9c-d01a-4db1-8c09-53ab547192d5",
   "metadata": {},
   "source": [
    "### A. Loading data with command line interface"
   ]
  },
  {
   "cell_type": "markdown",
   "id": "03756dad-8b92-453d-9f5c-9251d9b14388",
   "metadata": {},
   "source": [
    "#### Build the widget and add datatypes to be displayed"
   ]
  },
  {
   "cell_type": "code",
   "execution_count": null,
   "id": "4675abde-4b90-4931-be0a-645ea3a81003",
   "metadata": {},
   "outputs": [],
   "source": [
    "from tvbwidgets.api import HeadWidget\n",
    "from tvb.simulator.lab import *"
   ]
  },
  {
   "cell_type": "code",
   "execution_count": null,
   "id": "2bfd8e45-cfe1-44f4-b934-823716e27fad",
   "metadata": {},
   "outputs": [],
   "source": [
    "surface = surfaces.Surface.from_file()\n",
    "surface.configure()\n",
    "\n",
    "face = surfaces.Surface.from_file('face_8614.zip')\n",
    "face.configure()\n",
    "\n",
    "reg_map = region_mapping.RegionMapping.from_file()\n",
    "\n",
    "conn = connectivity.Connectivity.from_file()\n",
    "conn.configure()\n",
    "\n",
    "seeg = sensors.SensorsInternal.from_file()\n",
    "seeg.configure()"
   ]
  },
  {
   "cell_type": "code",
   "execution_count": null,
   "id": "aa76e23c-bc9e-4bdf-bd83-e68487b0aa28",
   "metadata": {},
   "outputs": [],
   "source": [
    "wid = HeadWidget([face, seeg, conn])"
   ]
  },
  {
   "cell_type": "code",
   "execution_count": null,
   "id": "0b6c41e9-8a03-4996-929f-3ebbafadcc49",
   "metadata": {},
   "outputs": [],
   "source": [
    "display(wid)"
   ]
  },
  {
   "cell_type": "markdown",
   "id": "10908505-9812-450f-aaab-8a4479aee44b",
   "metadata": {},
   "source": [
    "#### Show region mapping on cortical surface"
   ]
  },
  {
   "cell_type": "code",
   "execution_count": null,
   "id": "d50f83a3-667f-413f-a8d9-77437e41f9a4",
   "metadata": {
    "tags": []
   },
   "outputs": [],
   "source": [
    "wid.add_datatype(surface, reg_map)"
   ]
  },
  {
   "cell_type": "markdown",
   "id": "ac465799-bef4-4e33-812c-8856e7809787",
   "metadata": {
    "tags": []
   },
   "source": [
    "---"
   ]
  },
  {
   "cell_type": "markdown",
   "id": "8169e684-50c0-458e-aade-6c01a18a1c48",
   "metadata": {
    "tags": []
   },
   "source": [
    "### B. Loading data from Drive with GUI"
   ]
  },
  {
   "cell_type": "code",
   "execution_count": null,
   "id": "30dceb75-9940-4d80-8c3a-f134748411b9",
   "metadata": {},
   "outputs": [],
   "source": [
    "from tvbwidgets.api import HeadBrowser\n",
    "from IPython.core.display_functions import display\n",
    "wid = HeadBrowser()\n",
    "display(wid)"
   ]
  },
  {
   "cell_type": "code",
   "execution_count": null,
   "id": "37c413d5-23ea-4954-9eba-cfc08ce8327a",
   "metadata": {},
   "outputs": [],
   "source": []
  }
 ],
 "metadata": {
  "kernelspec": {
   "display_name": "Python 3 (ipykernel)",
   "language": "python",
   "name": "python3"
  },
  "language_info": {
   "codemirror_mode": {
    "name": "ipython",
    "version": 3
   },
   "file_extension": ".py",
   "mimetype": "text/x-python",
   "name": "python",
   "nbconvert_exporter": "python",
   "pygments_lexer": "ipython3",
   "version": "3.13.3"
  }
 },
 "nbformat": 4,
 "nbformat_minor": 5
}
