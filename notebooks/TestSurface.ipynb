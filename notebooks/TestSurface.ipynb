{
 "cells": [
  {
   "cell_type": "markdown",
   "id": "e11fe5c9-24be-4fb7-9a83-3272c22de0a4",
   "metadata": {},
   "source": [
    "## Demonstrate TVBWIDGETS capabilities"
   ]
  },
  {
   "cell_type": "markdown",
   "id": "88bf80b1-45e9-4096-9779-c8f16d819d29",
   "metadata": {},
   "source": [
    "### Play with a Surface 3D display"
   ]
  },
  {
   "cell_type": "code",
   "execution_count": 1,
   "id": "535fb836-4fcf-4ba7-9245-dae6c427fdc4",
   "metadata": {},
   "outputs": [
    {
     "name": "stdout",
     "output_type": "stream",
     "text": [
      "16-03-2022 10:56:54 - INFO - tvbwidgets - Version: 0.2.0\n"
     ]
    },
    {
     "name": "stderr",
     "output_type": "stream",
     "text": [
      "/Library/Anaconda/anaconda3/envs/tvb-widgets/lib/python3.9/site-packages/tvb/datatypes/surfaces.py:63: UserWarning: Geodesic distance module is unavailable; some functionality for surfaces will be unavailable.\n",
      "  warnings.warn(msg)\n"
     ]
    }
   ],
   "source": [
    "from tvbwidgets.api import SurfaceWidget"
   ]
  },
  {
   "cell_type": "code",
   "execution_count": 2,
   "id": "298e2088-4247-43a3-b446-008eb98292bb",
   "metadata": {},
   "outputs": [
    {
     "name": "stdout",
     "output_type": "stream",
     "text": [
      "16-03-2022 10:56:58 - INFO - tvbwidgets.auth - We could not find Collab Auth Token, we will search for env CLB_AUTH variable\n",
      "16-03-2022 10:56:58 - INFO - tvbwidgets.auth - We found Collab Auth in environment!\n"
     ]
    },
    {
     "data": {
      "application/vnd.jupyter.widget-view+json": {
       "model_id": "5d0c2a51df514175b536171807b4c2ab",
       "version_major": 2,
       "version_minor": 0
      },
      "text/plain": [
       "SurfaceWidget(children=(StorageWidget(children=(VBox(), DriveWidget(children=(HBox(children=(Label(value='Repo…"
      ]
     },
     "metadata": {},
     "output_type": "display_data"
    }
   ],
   "source": [
    "from IPython.core.display_functions import display\n",
    "sv = SurfaceWidget()\n",
    "display(sv)"
   ]
  },
  {
   "cell_type": "markdown",
   "id": "f37b87ad-cf28-4cd7-8808-a121847460a3",
   "metadata": {},
   "source": [
    "### Next a small demo with Drive Upload capability"
   ]
  },
  {
   "cell_type": "code",
   "execution_count": 1,
   "id": "dcbc0392-d1fa-4ff8-809b-6dcea5f02b3f",
   "metadata": {},
   "outputs": [
    {
     "name": "stdout",
     "output_type": "stream",
     "text": [
      "17-02-2022 01:53:01 - INFO - tvbwidgets - Package is not fully installed\n",
      "17-02-2022 01:53:01 - INFO - tvbwidgets - Version read from the internal _version.py file\n",
      "17-02-2022 01:53:01 - INFO - tvbwidgets - Version: 0.1.dev21+g8548de8.d20220217\n",
      "17-02-2022 01:53:01 - INFO - tvbwidgets.auth - We could not find Collab Auth Token, we will search for env CLB_AUTH variable\n",
      "17-02-2022 01:53:01 - INFO - tvbwidgets.auth - We found Collab Auth in environment!\n"
     ]
    },
    {
     "data": {
      "application/vnd.jupyter.widget-view+json": {
       "model_id": "296ed5e42a6545e2aa64907bb2d76f92",
       "version_major": 2,
       "version_minor": 0
      },
      "text/plain": [
       "DriveUploadWidget(children=(VBox(children=(FileUpload(value={}, description='Choose file'), Button(description…"
      ]
     },
     "metadata": {},
     "output_type": "display_data"
    }
   ],
   "source": [
    "from tvbwidgets.ui.drive_widget import DriveUploadWidget\n",
    "from IPython.core.display_functions import display\n",
    "du = DriveUploadWidget()\n",
    "display(du)"
   ]
  },
  {
   "cell_type": "code",
   "execution_count": null,
   "id": "f62c0664-465c-4050-ac59-e5993a3e3889",
   "metadata": {},
   "outputs": [],
   "source": []
  }
 ],
 "metadata": {
  "kernelspec": {
   "display_name": "Python 3",
   "language": "python",
   "name": "python3"
  },
  "language_info": {
   "codemirror_mode": {
    "name": "ipython",
    "version": 3
   },
   "file_extension": ".py",
   "mimetype": "text/x-python",
   "name": "python",
   "nbconvert_exporter": "python",
   "pygments_lexer": "ipython3",
   "version": "3.9.10"
  }
 },
 "nbformat": 4,
 "nbformat_minor": 5
}
