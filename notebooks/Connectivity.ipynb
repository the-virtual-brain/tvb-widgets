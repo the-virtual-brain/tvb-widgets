{
 "cells": [
  {
   "cell_type": "markdown",
   "metadata": {},
   "source": [
    "## Demonstrate Connectivity Widget "
   ]
  },
  {
   "cell_type": "code",
   "execution_count": null,
   "metadata": {
    "tags": []
   },
   "outputs": [],
   "source": [
    "from tvbwidgets.api import ConnectivityWidget\n",
    "from tvb.datatypes.connectivity import Connectivity"
   ]
  },
  {
   "cell_type": "code",
   "execution_count": null,
   "metadata": {},
   "outputs": [],
   "source": [
    "conn = Connectivity.from_file() # defaults to connectivy_76.zip\n",
    "conn.configure()"
   ]
  },
  {
   "cell_type": "code",
   "execution_count": null,
   "metadata": {
    "scrolled": true
   },
   "outputs": [],
   "source": [
    "wid = ConnectivityWidget(conn, default_active_tab='viewers') # default_active_tab can be any value between 'viewers'|'operations'|'both'\n",
    "\n",
    "display(wid)"
   ]
  },
  {
   "cell_type": "code",
   "execution_count": null,
   "metadata": {},
   "outputs": [],
   "source": [
    "# replace None in the method below with the gid of the connectivity you wish to export\n",
    "# if no gid is provided it will export the connectivity currently viewed\n",
    "\n",
    "new_connectivity = wid.get_connectivity(gid=None)  \n",
    "new_connectivity"
   ]
  },
  {
   "cell_type": "code",
   "execution_count": null,
   "metadata": {},
   "outputs": [],
   "source": [
    "#  Using the React Connectivity widget may lead to Jupyter Lab freezing or crashing.\n",
    "#  If you choose to use it, we recommend to run it in Mozilla Firefox web browser.\n",
    "\n",
    "\n",
    "# from tvbwidgets.api import ConnectivityWidgetReact\n",
    "# from tvb.datatypes.connectivity import Connectivity\n",
    "\n",
    "# connectivity = Connectivity.from_file() # defaults to connectivy_76.zip\n",
    "\n",
    "\n",
    "# wid = ConnectivityWidgetReact(connectivity=connectivity)\n",
    "# wid"
   ]
  }
 ],
 "metadata": {
  "kernelspec": {
   "display_name": "Python 3 (ipykernel)",
   "language": "python",
   "name": "python3"
  },
  "language_info": {
   "codemirror_mode": {
    "name": "ipython",
    "version": 3
   },
   "file_extension": ".py",
   "mimetype": "text/x-python",
   "name": "python",
   "nbconvert_exporter": "python",
   "pygments_lexer": "ipython3",
   "version": "3.13.3"
  }
 },
 "nbformat": 4,
 "nbformat_minor": 4
}
